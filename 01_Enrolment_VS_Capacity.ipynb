{
 "cells": [
  {
   "cell_type": "code",
   "execution_count": 1,
   "id": "7c64c498-e444-41e1-85bc-c6b7bcaf7547",
   "metadata": {},
   "outputs": [
    {
     "name": "stderr",
     "output_type": "stream",
     "text": [
      "── \u001b[1mAttaching core tidyverse packages\u001b[22m ──────────────────────── tidyverse 2.0.0 ──\n",
      "\u001b[32m✔\u001b[39m \u001b[34mdplyr    \u001b[39m 1.1.4     \u001b[32m✔\u001b[39m \u001b[34mreadr    \u001b[39m 2.1.5\n",
      "\u001b[32m✔\u001b[39m \u001b[34mforcats  \u001b[39m 1.0.0     \u001b[32m✔\u001b[39m \u001b[34mstringr  \u001b[39m 1.5.1\n",
      "\u001b[32m✔\u001b[39m \u001b[34mggplot2  \u001b[39m 3.5.1     \u001b[32m✔\u001b[39m \u001b[34mtibble   \u001b[39m 3.2.1\n",
      "\u001b[32m✔\u001b[39m \u001b[34mlubridate\u001b[39m 1.9.3     \u001b[32m✔\u001b[39m \u001b[34mtidyr    \u001b[39m 1.3.1\n",
      "\u001b[32m✔\u001b[39m \u001b[34mpurrr    \u001b[39m 1.0.2     \n",
      "── \u001b[1mConflicts\u001b[22m ────────────────────────────────────────── tidyverse_conflicts() ──\n",
      "\u001b[31m✖\u001b[39m \u001b[34mdplyr\u001b[39m::\u001b[32mfilter()\u001b[39m masks \u001b[34mstats\u001b[39m::filter()\n",
      "\u001b[31m✖\u001b[39m \u001b[34mdplyr\u001b[39m::\u001b[32mlag()\u001b[39m    masks \u001b[34mstats\u001b[39m::lag()\n",
      "\u001b[36mℹ\u001b[39m Use the conflicted package (\u001b[3m\u001b[34m<http://conflicted.r-lib.org/>\u001b[39m\u001b[23m) to force all conflicts to become errors\n"
     ]
    }
   ],
   "source": [
    "library(tidyverse)"
   ]
  },
  {
   "cell_type": "code",
   "execution_count": 5,
   "id": "7a6bf031-bb12-4c5d-8d2f-81f9debd68c1",
   "metadata": {},
   "outputs": [
    {
     "name": "stderr",
     "output_type": "stream",
     "text": [
      "\u001b[1mRows: \u001b[22m\u001b[34m13\u001b[39m \u001b[1mColumns: \u001b[22m\u001b[34m2\u001b[39m\n",
      "\u001b[36m──\u001b[39m \u001b[1mColumn specification\u001b[22m \u001b[36m────────────────────────────────────────────────────────\u001b[39m\n",
      "\u001b[1mDelimiter:\u001b[22m \",\"\n",
      "\u001b[32mdbl\u001b[39m (2): year, enrolment\n",
      "\n",
      "\u001b[36mℹ\u001b[39m Use `spec()` to retrieve the full column specification for this data.\n",
      "\u001b[36mℹ\u001b[39m Specify the column types or set `show_col_types = FALSE` to quiet this message.\n"
     ]
    },
    {
     "data": {
      "text/html": [
       "<table class=\"dataframe\">\n",
       "<caption>A tibble: 6 × 2</caption>\n",
       "<thead>\n",
       "\t<tr><th scope=col>year</th><th scope=col>enrolment</th></tr>\n",
       "\t<tr><th scope=col>&lt;dbl&gt;</th><th scope=col>&lt;dbl&gt;</th></tr>\n",
       "</thead>\n",
       "<tbody>\n",
       "\t<tr><td>2012</td><td> 8438</td></tr>\n",
       "\t<tr><td>2013</td><td> 9371</td></tr>\n",
       "\t<tr><td>2014</td><td>10903</td></tr>\n",
       "\t<tr><td>2015</td><td>12117</td></tr>\n",
       "\t<tr><td>2016</td><td>13182</td></tr>\n",
       "\t<tr><td>2017</td><td>14685</td></tr>\n",
       "</tbody>\n",
       "</table>\n"
      ],
      "text/latex": [
       "A tibble: 6 × 2\n",
       "\\begin{tabular}{ll}\n",
       " year & enrolment\\\\\n",
       " <dbl> & <dbl>\\\\\n",
       "\\hline\n",
       "\t 2012 &  8438\\\\\n",
       "\t 2013 &  9371\\\\\n",
       "\t 2014 & 10903\\\\\n",
       "\t 2015 & 12117\\\\\n",
       "\t 2016 & 13182\\\\\n",
       "\t 2017 & 14685\\\\\n",
       "\\end{tabular}\n"
      ],
      "text/markdown": [
       "\n",
       "A tibble: 6 × 2\n",
       "\n",
       "| year &lt;dbl&gt; | enrolment &lt;dbl&gt; |\n",
       "|---|---|\n",
       "| 2012 |  8438 |\n",
       "| 2013 |  9371 |\n",
       "| 2014 | 10903 |\n",
       "| 2015 | 12117 |\n",
       "| 2016 | 13182 |\n",
       "| 2017 | 14685 |\n",
       "\n"
      ],
      "text/plain": [
       "  year enrolment\n",
       "1 2012  8438    \n",
       "2 2013  9371    \n",
       "3 2014 10903    \n",
       "4 2015 12117    \n",
       "5 2016 13182    \n",
       "6 2017 14685    "
      ]
     },
     "metadata": {},
     "output_type": "display_data"
    }
   ],
   "source": [
    "enrol_data<-read_csv(\"Data/Enrolment_Data.csv\")\n",
    "head(enrol_data)"
   ]
  },
  {
   "cell_type": "code",
   "execution_count": 6,
   "id": "c618a6a7-7406-41e4-9702-da9b3030a54a",
   "metadata": {},
   "outputs": [
    {
     "name": "stdout",
     "output_type": "stream",
     "text": [
      "Rows: 13\n",
      "Columns: 2\n",
      "$ year      \u001b[3m\u001b[90m<dbl>\u001b[39m\u001b[23m 2012, 2013, 2014, 2015, 2016, 2017, 2018, 2019, 2020, 2021, …\n",
      "$ enrolment \u001b[3m\u001b[90m<dbl>\u001b[39m\u001b[23m 8438, 9371, 10903, 12117, 13182, 14685, 15405, 16098, 15504,…\n"
     ]
    },
    {
     "data": {
      "text/plain": [
       "      year        enrolment    \n",
       " Min.   :2012   Min.   : 8438  \n",
       " 1st Qu.:2015   1st Qu.:12117  \n",
       " Median :2018   Median :15405  \n",
       " Mean   :2018   Mean   :14086  \n",
       " 3rd Qu.:2021   3rd Qu.:16357  \n",
       " Max.   :2024   Max.   :17243  "
      ]
     },
     "metadata": {},
     "output_type": "display_data"
    }
   ],
   "source": [
    "glimpse(enrol_data)\n",
    "summary(enrol_data)"
   ]
  },
  {
   "cell_type": "code",
   "execution_count": null,
   "id": "bb42f0d3-15f4-457e-8a82-623feb138b1b",
   "metadata": {},
   "outputs": [],
   "source": []
  }
 ],
 "metadata": {
  "kernelspec": {
   "display_name": "R",
   "language": "R",
   "name": "ir"
  },
  "language_info": {
   "codemirror_mode": "r",
   "file_extension": ".r",
   "mimetype": "text/x-r-source",
   "name": "R",
   "pygments_lexer": "r",
   "version": "4.3.3"
  }
 },
 "nbformat": 4,
 "nbformat_minor": 5
}
